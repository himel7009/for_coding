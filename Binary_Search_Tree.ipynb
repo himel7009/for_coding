{
 "cells": [
  {
   "cell_type": "markdown",
   "metadata": {},
   "source": [
    "root\n"
   ]
  },
  {
   "cell_type": "code",
   "execution_count": 1,
   "metadata": {},
   "outputs": [
    {
     "name": "stdout",
     "output_type": "stream",
     "text": [
      "<__main__.BST object at 0x00000255A174ADA0>\n",
      "10\n",
      "None\n",
      "None\n",
      "23\n"
     ]
    }
   ],
   "source": [
    "class BST:\n",
    "    def __init__(self,key):\n",
    "        self.key=key\n",
    "        self.lchild=None\n",
    "        self.rchild=None\n",
    "root=BST(10)\n",
    "print(root)\n",
    "print(root.key)\n",
    "print(root.lchild)\n",
    "print(root.rchild)\n",
    "root.lchild=BST(23)\n",
    "print(root.lchild.key)\n"
   ]
  },
  {
   "cell_type": "markdown",
   "metadata": {},
   "source": [
    "Insertion\n"
   ]
  },
  {
   "cell_type": "code",
   "execution_count": 2,
   "metadata": {},
   "outputs": [],
   "source": [
    "class BST:\n",
    "    def __init__(self,key):\n",
    "        self.key=key\n",
    "        self.lchild=None\n",
    "        self.rchild=None\n",
    "    def insert(self,data):\n",
    "        if self.key==data:\n",
    "            return\n",
    "        if self.key is None:\n",
    "            self.key=data\n",
    "            return\n",
    "        if self.key>data:\n",
    "            if self.lchild:\n",
    "                self.lchild.insert(data)\n",
    "            else:\n",
    "                self.lchild=BST(data)\n",
    "        else:\n",
    "             if self.rchild:\n",
    "                self.rchild.insert(data)\n",
    "             else:\n",
    "                self.rchild=BST(data)"
   ]
  },
  {
   "cell_type": "markdown",
   "metadata": {},
   "source": [
    "Search\n"
   ]
  },
  {
   "cell_type": "code",
   "execution_count": null,
   "metadata": {},
   "outputs": [],
   "source": [
    "def search(self,data):\n",
    "    if self.key == data:\n",
    "        print(\"The node is found\")\n",
    "        return\n",
    "    if self.key>data:\n",
    "        if self.lchild:\n",
    "            self.lchild.search(data)\n",
    "        else:\n",
    "            print(\"The node is not found\")\n",
    "    else:\n",
    "        if self.rchild:\n",
    "            self.rchild.search(data)\n",
    "        else:\n",
    "            print(\"The node is not found\")\n",
    "            "
   ]
  },
  {
   "cell_type": "markdown",
   "metadata": {},
   "source": [
    "Search (iterative)"
   ]
  },
  {
   "cell_type": "code",
   "execution_count": null,
   "metadata": {},
   "outputs": [],
   "source": [
    "def search(self,data):\n",
    "    if self.root is None:\n",
    "        print(\"the node does not exist\")\n",
    "        return\n",
    "    current=self.root\n",
    "    while current is not None:\n",
    "        if current.data==data:\n",
    "            print(\"the node is found\")\n",
    "            return\n",
    "        if current>data:\n",
    "            current=current.lchild\n",
    "        else:\n",
    "            current=current.rchild\n",
    "    print(\"the node is not available\")"
   ]
  },
  {
   "cell_type": "markdown",
   "metadata": {},
   "source": [
    "Preorder\n"
   ]
  },
  {
   "cell_type": "code",
   "execution_count": 2,
   "metadata": {},
   "outputs": [],
   "source": [
    "def preorder(self):\n",
    "    print(self.key,end=\" \")\n",
    "    if self.lchild:\n",
    "        self.lchild.preorder()\n",
    "    if self.rchild:\n",
    "        self.rchild.preorder()\n",
    "        "
   ]
  },
  {
   "cell_type": "markdown",
   "metadata": {},
   "source": [
    "Inorder\n"
   ]
  },
  {
   "cell_type": "code",
   "execution_count": null,
   "metadata": {},
   "outputs": [],
   "source": [
    "def inorder(self):\n",
    "    if self.lchild:\n",
    "        self.lchild.inorder()\n",
    "    print(self.key,end=\" \")\n",
    "    if self.rchild:\n",
    "        self.rchild.inorder()"
   ]
  },
  {
   "cell_type": "markdown",
   "metadata": {},
   "source": [
    "Post order"
   ]
  },
  {
   "cell_type": "code",
   "execution_count": 3,
   "metadata": {},
   "outputs": [],
   "source": [
    "def postorder(self):\n",
    "    if self.lchild:\n",
    "        self.lchild.postorder()\n",
    "    if self.rchild:\n",
    "        self.rchild.postorder()\n",
    "    print(self.key,end=\" \")"
   ]
  },
  {
   "cell_type": "markdown",
   "metadata": {},
   "source": [
    "Level order\n"
   ]
  },
  {
   "cell_type": "code",
   "execution_count": 1,
   "metadata": {},
   "outputs": [],
   "source": [
    "def level_order(self):\n",
    "    if self.root is None:\n",
    "        print(\"Nothing to order\")\n",
    "        return\n",
    "    else:\n",
    "        stack=[self.root]\n",
    "    while stack:\n",
    "        current=stack.pop(0)\n",
    "        print(current.key,end=\"\")\n",
    "        if current.lchild is not None:\n",
    "            stack.append(current.lchild)\n",
    "        if current.rchild is not None:\n",
    "            stack.append(current.rchild)"
   ]
  },
  {
   "cell_type": "markdown",
   "metadata": {},
   "source": [
    "Delete\n"
   ]
  },
  {
   "cell_type": "code",
   "execution_count": 4,
   "metadata": {},
   "outputs": [],
   "source": [
    "def delete(self,data):\n",
    "    if self.key is None:\n",
    "        print(\"There is nothing to delete\")\n",
    "        return\n",
    "    if self.key>data:\n",
    "        if self.lchild:\n",
    "            self.lchild=self.lchild.delete(data)\n",
    "        else:\n",
    "            print(\"The node is not present\")\n",
    "    elif self.key<data:\n",
    "        if self.rchild:\n",
    "            self.rchild=self.rchild.delete(data)\n",
    "        else:\n",
    "            print(\"The node is not present\")\n",
    "    else:\n",
    "        if self.lchild is None:\n",
    "            temp=self.rchild\n",
    "            self=None \n",
    "            return temp\n",
    "        if self.rchild is None:\n",
    "            temp=self.lchild\n",
    "            self=None\n",
    "            return temp\n",
    "        node=self.rchild\n",
    "        while node.lchild:\n",
    "            node=node.lchild\n",
    "        self.key=node.key\n",
    "        self.rchild=self.rchild.delete(node.key)\n",
    "    return self"
   ]
  },
  {
   "cell_type": "markdown",
   "metadata": {},
   "source": [
    "maximum value\n"
   ]
  },
  {
   "cell_type": "code",
   "execution_count": 5,
   "metadata": {},
   "outputs": [],
   "source": [
    "def max(self):\n",
    "    current=self\n",
    "    while current.rchild:\n",
    "        current=current.rchild\n",
    "    print(\"The node with the maximum key\",current.key)\n",
    "    "
   ]
  },
  {
   "cell_type": "markdown",
   "metadata": {},
   "source": [
    "Minimum value\n"
   ]
  },
  {
   "cell_type": "code",
   "execution_count": null,
   "metadata": {},
   "outputs": [],
   "source": [
    "def min(self):\n",
    "    current=self\n",
    "    while current.lchild:\n",
    "        current=current.lchild\n",
    "    print(\"The node with the minimum key\",current.key)\n",
    "    "
   ]
  }
 ],
 "metadata": {
  "kernelspec": {
   "display_name": "Python 3",
   "language": "python",
   "name": "python3"
  },
  "language_info": {
   "codemirror_mode": {
    "name": "ipython",
    "version": 3
   },
   "file_extension": ".py",
   "mimetype": "text/x-python",
   "name": "python",
   "nbconvert_exporter": "python",
   "pygments_lexer": "ipython3",
   "version": "3.12.1"
  }
 },
 "nbformat": 4,
 "nbformat_minor": 2
}
