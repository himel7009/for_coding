{
  "cells": [
    {
      "cell_type": "markdown",
      "metadata": {},
      "source": [
        "simple singly linked list"
      ]
    },
    {
      "cell_type": "code",
      "execution_count": 2,
      "metadata": {},
      "outputs": [],
      "source": [
        "class Node:\n",
        "    def __init__(self,data):\n",
        "        self.data=data\n",
        "        self.ref=None\n",
        "class Slist:\n",
        "    def __init__(self):\n",
        "        self.head=None\n",
        "        "
      ]
    },
    {
      "cell_type": "markdown",
      "metadata": {},
      "source": [
        "Traversal, how to move from one node to another\n"
      ]
    },
    {
      "cell_type": "code",
      "execution_count": null,
      "metadata": {},
      "outputs": [],
      "source": [
        "def print_list(self):\n",
        "    if self.head is None:\n",
        "        print(\"The node is empty\")\n",
        "    else:\n",
        "        n=self.head\n",
        "        while n is not None:\n",
        "            print(n.data,\"-->\",end=\" \")\n",
        "            n=n.ref\n",
        "            "
      ]
    },
    {
      "cell_type": "markdown",
      "metadata": {},
      "source": [
        "add on the begin of the code"
      ]
    },
    {
      "cell_type": "code",
      "execution_count": null,
      "metadata": {},
      "outputs": [],
      "source": [
        "def add_begin(self,data):\n",
        "    new_node=Node(data)\n",
        "    new_node.ref=self.head\n",
        "    self.head=new_node\n",
        "    "
      ]
    },
    {
      "cell_type": "markdown",
      "metadata": {},
      "source": [
        "add at the end of the Node\n"
      ]
    },
    {
      "cell_type": "code",
      "execution_count": null,
      "metadata": {},
      "outputs": [],
      "source": [
        "def add_end(self,data):\n",
        "    new_node=Node(data)\n",
        "    if self.head is None:\n",
        "        self.head=new_node\n",
        "    else:\n",
        "        n=self.head\n",
        "        while n.ref is not None:\n",
        "            n=n.ref\n",
        "        n.ref=new_node\n",
        "        "
      ]
    },
    {
      "cell_type": "markdown",
      "metadata": {},
      "source": [
        "add after a node (between)"
      ]
    },
    {
      "cell_type": "code",
      "execution_count": null,
      "metadata": {},
      "outputs": [],
      "source": [
        "def add_after(self,data,x):\n",
        "    n=self.head\n",
        "    while n is not None:\n",
        "        if x==n.data:\n",
        "            break\n",
        "        n=n.ref\n",
        "    if n is None:\n",
        "        print(\"The data is not here\")\n",
        "    else:\n",
        "        new_node=Node(data)\n",
        "        new_node.ref=n.ref\n",
        "        n.ref=new_node\n",
        "        "
      ]
    },
    {
      "cell_type": "markdown",
      "metadata": {},
      "source": [
        "add before a node (between)"
      ]
    },
    {
      "cell_type": "code",
      "execution_count": null,
      "metadata": {},
      "outputs": [],
      "source": [
        "def add_before(self,data,x):\n",
        "    if self.head is None:\n",
        "        print(\"The list is empty\")\n",
        "        return\n",
        "    if self.head.data==x:\n",
        "        new_node=Node(data)\n",
        "        new_node.ref=self.head\n",
        "        self.head=new_node\n",
        "        return\n",
        "    n=self.head\n",
        "    while n.ref is not None:\n",
        "        if n.ref.data == x:\n",
        "            break\n",
        "        n=n.ref\n",
        "        if n.ref is None:\n",
        "            print(\"the node does not exist\")\n",
        "        else:\n",
        "            new_node=Node(data)\n",
        "            new_node.ref=n.ref\n",
        "            n.ref=new_node"
      ]
    },
    {
      "cell_type": "markdown",
      "metadata": {},
      "source": [
        "add an empty list"
      ]
    },
    {
      "cell_type": "code",
      "execution_count": null,
      "metadata": {},
      "outputs": [],
      "source": [
        "def insert_list(self,data):\n",
        "    if self.head is None:\n",
        "        new_node=Node(data)\n",
        "        new_node.ref=self.head\n",
        "        self.head=new_node\n",
        "    else:\n",
        "        print(\"The list is not empty\")"
      ]
    },
    {
      "cell_type": "markdown",
      "metadata": {},
      "source": [
        "delete a node in the begining\n"
      ]
    },
    {
      "cell_type": "code",
      "execution_count": null,
      "metadata": {},
      "outputs": [],
      "source": [
        "def delete_begin(self):\n",
        "    if self.head is None:\n",
        "        print(\"The node is empty\")\n",
        "    else:\n",
        "        self.head=self.head.ref"
      ]
    },
    {
      "cell_type": "markdown",
      "metadata": {},
      "source": [
        "delete a node in the end"
      ]
    },
    {
      "cell_type": "code",
      "execution_count": null,
      "metadata": {},
      "outputs": [],
      "source": [
        "def delete_end(self):\n",
        "    if self.head is None:\n",
        "        print(\"The node is empty\")\n",
        "    elif self.head.ref is None:\n",
        "        self.head=None\n",
        "    else:\n",
        "        n=self.head\n",
        "        while n.ref.ref is not None:\n",
        "            n=n.ref\n",
        "        n.ref=None"
      ]
    },
    {
      "cell_type": "markdown",
      "metadata": {},
      "source": [
        "Delete by value"
      ]
    },
    {
      "cell_type": "code",
      "execution_count": null,
      "metadata": {},
      "outputs": [],
      "source": [
        "def delete_by_value(self,x):\n",
        "    if self.head is None:\n",
        "        print(\"The node is empty\")\n",
        "        return\n",
        "    if x==self.head.data:\n",
        "        self.head=self.head.ref\n",
        "        return\n",
        "    n=self.head\n",
        "    while n.ref is not None:\n",
        "        if x==n.ref.data:\n",
        "            break\n",
        "        n=n.ref\n",
        "    if n.ref is None:\n",
        "        print(\"The node does not exist\")\n",
        "    else:\n",
        "        n.ref=n.ref.ref"
      ]
    },
    {
      "cell_type": "markdown",
      "metadata": {},
      "source": [
        "The entire code"
      ]
    },
    {
      "cell_type": "code",
      "execution_count": 1,
      "metadata": {},
      "outputs": [
        {
          "name": "stdout",
          "output_type": "stream",
          "text": [
            "the node does not exist\n",
            "the node is not empty\n",
            "56 ---> 456 ---> "
          ]
        }
      ],
      "source": [
        "class New_node:\n",
        "    def __init__(self,data):\n",
        "        self.data=data\n",
        "        self.ref=None\n",
        "class Singly_list:\n",
        "    def __init__(self):\n",
        "        self.head=None\n",
        "    def traversal(self):\n",
        "        if self.head is None:\n",
        "            print(\"The linked list is empty\")\n",
        "        else:\n",
        "            n=self.head\n",
        "            while n is not None:\n",
        "             print(n.data,\"--->\", end=\" \")\n",
        "             n=n.ref\n",
        "    def add_begin(self,data):\n",
        "        new_node=New_node(data)\n",
        "        new_node.ref=self.head\n",
        "        self.head=new_node\n",
        "    def add_end(self,data):\n",
        "        new_node=New_node(data)\n",
        "        if self.head is None:\n",
        "            self.head=new_node\n",
        "        else:\n",
        "            n=self.head\n",
        "            while n.ref is not None:\n",
        "                n=n.ref\n",
        "            n.ref=new_node\n",
        "    def add_after(self,data,x):\n",
        "        n=self.head\n",
        "        while n is not None:\n",
        "            if x==n.data:\n",
        "                break\n",
        "            n=n.ref\n",
        "        if n is None:\n",
        "            print(\"The data is not in the loop\")\n",
        "        else:\n",
        "            new_node=New_node(data)\n",
        "            new_node.ref=n.ref\n",
        "            n.ref=new_node\n",
        "    def add_before(self,data,x):\n",
        "        if self.head is None:\n",
        "            print(\"The list is empty\")\n",
        "            return\n",
        "        if self.head.data==x:\n",
        "            new_node=New_node(data)\n",
        "            new_node.ref=self.head\n",
        "            self.head=new_node\n",
        "            return\n",
        "        n=self.head\n",
        "        while n.ref is not None:\n",
        "            if n.ref.data==x:\n",
        "                break\n",
        "            n=n.ref\n",
        "        if n.ref is None:\n",
        "                print(\"the node does not exist\")\n",
        "        else:\n",
        "            new_node=New_node(data)\n",
        "            new_node.ref=n.ref\n",
        "            n.ref=new_node\n",
        "    def insert_empty(self,data):\n",
        "        if self.head is None:\n",
        "            new_node=New_node(data)\n",
        "            new_node.ref=self.head\n",
        "            self.head=new_node\n",
        "        else:\n",
        "            print(\"the node is not empty\")\n",
        "    def delete_begin(self):\n",
        "        if self.head is None:\n",
        "            print(\"the node is empty\")\n",
        "        else:\n",
        "            self.head=self.head.ref\n",
        "    def delete_end(self):\n",
        "        if self.head is None:\n",
        "            print(\"the node is empyty\")\n",
        "        elif self.head.ref is None:\n",
        "            self.head=None\n",
        "        else:\n",
        "            n=self.head\n",
        "            while n.ref.ref is not None:\n",
        "                n=n.ref\n",
        "            n.ref=None\n",
        "    def delete_by_value(self,x):\n",
        "        if self.head is None:\n",
        "            print(\"The node is empty\")\n",
        "            return\n",
        "        if x==self.head.data:\n",
        "            self.head=self.head.ref\n",
        "            return\n",
        "        n=self.head\n",
        "        while n.ref is not None:\n",
        "            if x==n.ref.data:\n",
        "                break\n",
        "            n=n.ref\n",
        "        if n.ref is None:\n",
        "            print(\"The node does not exist\")\n",
        "        else:\n",
        "            n.ref=n.ref.ref\n",
        "            \n",
        "                \n",
        "            \n",
        "list1=Singly_list()\n",
        "list1.add_begin(10)\n",
        "list1.add_end(20) \n",
        "list1.add_after(34,10) \n",
        "list1.add_after(56,34) \n",
        "list1.add_before(34,67)\n",
        "list1.add_before(45,20)\n",
        "list1.add_end(20)\n",
        "list1.add_before(456,20)\n",
        "list1.insert_empty(34)\n",
        "list1.delete_begin()\n",
        "list1.delete_begin()\n",
        "list1.delete_end()\n",
        "list1.delete_end()\n",
        "list1.delete_by_value(45)\n",
        "\n",
        "list1.traversal() \n",
        "            \n",
        "            \n",
        "    \n",
        "                \n",
        "                \n",
        "            "
      ]
    },
    {
      "cell_type": "markdown",
      "metadata": {},
      "source": [
        "#The End\n"
      ]
    },
    {
      "cell_type": "code",
      "execution_count": 9,
      "metadata": {},
      "outputs": [
        {
          "name": "stdout",
          "output_type": "stream",
          "text": [
            "1\n",
            "2\n",
            "3\n",
            "4\n"
          ]
        }
      ],
      "source": []
    }
  ],
  "metadata": {
    "colab": {
      "provenance": []
    },
    "kernelspec": {
      "display_name": "Python 3",
      "name": "python3"
    },
    "language_info": {
      "codemirror_mode": {
        "name": "ipython",
        "version": 3
      },
      "file_extension": ".py",
      "mimetype": "text/x-python",
      "name": "python",
      "nbconvert_exporter": "python",
      "pygments_lexer": "ipython3",
      "version": "3.12.1"
    }
  },
  "nbformat": 4,
  "nbformat_minor": 0
}
