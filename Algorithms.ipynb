{
 "cells": [
  {
   "cell_type": "markdown",
   "metadata": {},
   "source": [
    "**Algorithms**"
   ]
  },
  {
   "cell_type": "code",
   "execution_count": 1,
   "metadata": {},
   "outputs": [
    {
     "name": "stdout",
     "output_type": "stream",
     "text": [
      "The key is found\n"
     ]
    }
   ],
   "source": [
    "def BinarySearch(list,key):\n",
    "    low=0\n",
    "    high=len(list)-1\n",
    "    mid=low+high//2\n",
    "    found=False\n",
    "    while low<=high and not found:\n",
    "        if key==list[mid]:\n",
    "            found=True\n",
    "        elif key>list[mid]:\n",
    "            low=mid+1\n",
    "        else:\n",
    "            high=mid-1\n",
    "    if found==True:\n",
    "        print(\"The key is found\")\n",
    "    else:\n",
    "        print(\"The key is not found\")\n",
    "list=[1,2,3,4,5,6,7]\n",
    "BinarySearch(list,4)"
   ]
  },
  {
   "cell_type": "code",
   "execution_count": 1,
   "metadata": {},
   "outputs": [
    {
     "ename": "ValueError",
     "evalue": "invalid literal for int() with base 10: ''",
     "output_type": "error",
     "traceback": [
      "\u001b[1;31m---------------------------------------------------------------------------\u001b[0m",
      "\u001b[1;31mValueError\u001b[0m                                Traceback (most recent call last)",
      "Cell \u001b[1;32mIn[1], line 1\u001b[0m\n\u001b[1;32m----> 1\u001b[0m num\u001b[38;5;241m=\u001b[39m\u001b[38;5;28;43mint\u001b[39;49m\u001b[43m(\u001b[49m\u001b[38;5;28;43minput\u001b[39;49m\u001b[43m(\u001b[49m\u001b[38;5;124;43m\"\u001b[39;49m\u001b[38;5;124;43mEnter the amount of number you want to add on the list: \u001b[39;49m\u001b[38;5;124;43m\"\u001b[39;49m\u001b[43m)\u001b[49m\u001b[43m)\u001b[49m\n\u001b[0;32m      2\u001b[0m list1\u001b[38;5;241m=\u001b[39m[\u001b[38;5;28mint\u001b[39m(\u001b[38;5;28minput\u001b[39m()) \u001b[38;5;28;01mfor\u001b[39;00m i \u001b[38;5;129;01min\u001b[39;00m \u001b[38;5;28mrange\u001b[39m(num)]\n\u001b[0;32m      3\u001b[0m \u001b[38;5;28mprint\u001b[39m(list1)\n",
      "\u001b[1;31mValueError\u001b[0m: invalid literal for int() with base 10: ''"
     ]
    }
   ],
   "source": [
    "num=int(input(\"Enter the amount of number you want to add on the list: \"))\n",
    "list1=[int(input()) for i in range(num)]\n",
    "print(list1)"
   ]
  },
  {
   "cell_type": "markdown",
   "metadata": {},
   "source": [
    "***Sorting***"
   ]
  },
  {
   "cell_type": "markdown",
   "metadata": {},
   "source": [
    "Bubble Sort"
   ]
  },
  {
   "cell_type": "code",
   "execution_count": null,
   "metadata": {},
   "outputs": [
    {
     "name": "stdout",
     "output_type": "stream",
     "text": [
      "Sorted Array in Ascending Order:\n",
      "[-9, -2, 0, 11, 45]\n"
     ]
    }
   ],
   "source": [
    "def bubbleSort(array):\n",
    "    for i in range(0,len(array)):\n",
    "        swapped=False\n",
    "        for j in range(0,len(array)-i-1):\n",
    "            if array[j]>array[j+1]:\n",
    "                temp=array[j]\n",
    "                array[j]=array[j+1]\n",
    "                array[j+1]=temp\n",
    "                swapped=True\n",
    "        if not swapped:\n",
    "            break\n",
    "data=[-2, 45, 0, 11, -9]\n",
    "bubbleSort(data)\n",
    "print('Sorted Array in Ascending Order:')\n",
    "print(data)\n"
   ]
  },
  {
   "cell_type": "markdown",
   "metadata": {},
   "source": [
    "Merge Sort"
   ]
  },
  {
   "cell_type": "code",
   "execution_count": 2,
   "metadata": {},
   "outputs": [
    {
     "data": {
      "text/plain": [
       "[5, 6, 6, 9, 22]"
      ]
     },
     "execution_count": 2,
     "metadata": {},
     "output_type": "execute_result"
    }
   ],
   "source": [
    "lst = [22, 6, 5, 9, 6]\n",
    "def merge(left,right):\n",
    "    out=[]\n",
    "    i=0\n",
    "    j=0\n",
    "    while True:\n",
    "        if i == len(left):\n",
    "            out+=right[j:]\n",
    "            return out\n",
    "        if j == len(right):\n",
    "            out+=left[i:]\n",
    "            return out\n",
    "        if left[i]<= right[j]:\n",
    "            out.append(left[i])\n",
    "            i+=1\n",
    "        else:\n",
    "            out.append(right[j])\n",
    "            j+=1\n",
    "def mergeSort(lst):\n",
    "    if len(lst)<=1:\n",
    "        return lst\n",
    "    mid=len(lst)//2\n",
    "    left=mergeSort(lst[:mid])\n",
    "    right=mergeSort(lst[mid:])\n",
    "    out=merge(left,right)\n",
    "    return out\n",
    "mergeSort(lst)\n",
    "        "
   ]
  },
  {
   "cell_type": "markdown",
   "metadata": {},
   "source": [
    "Selection Sort"
   ]
  },
  {
   "cell_type": "code",
   "execution_count": 3,
   "metadata": {},
   "outputs": [
    {
     "name": "stdout",
     "output_type": "stream",
     "text": [
      "[1, 2, 3, 4, 5, 6, 7, 8]\n"
     ]
    }
   ],
   "source": [
    "def selectionSort(array):\n",
    "    for i in range(len(array)):\n",
    "        min_value=min(array[i:])\n",
    "        min_index=array.index(min_value)\n",
    "        array[i],array[min_index]=array[min_index],array[i]\n",
    "data=[1,2,3,4,5,6,7,8]\n",
    "selectionSort(data)\n",
    "print(data)"
   ]
  },
  {
   "cell_type": "markdown",
   "metadata": {},
   "source": [
    "CountingSort"
   ]
  },
  {
   "cell_type": "code",
   "execution_count": 3,
   "metadata": {},
   "outputs": [
    {
     "name": "stdout",
     "output_type": "stream",
     "text": [
      "Sorted Array in Ascending Order: \n",
      "[1, 2, 2, 3, 3, 4, 8, 10, 20, 34, 35, 45, 300, 300, 300]\n"
     ]
    }
   ],
   "source": [
    "def countingSort(array,k):\n",
    "    size=len(array)\n",
    "    output=[0]*size\n",
    "    count=[0]*(k+1)\n",
    "    for i in range(0,size):\n",
    "        count[array[i]]+=1\n",
    "    for i in range(1,k+1):\n",
    "        count[i]+=count[i-1]\n",
    "    i=size-1\n",
    "    while i>=0:\n",
    "        output[count[array[i]]-1]=array[i]\n",
    "        count[array[i]]-=1\n",
    "        i-=1\n",
    "    for i in range(0,size):\n",
    "        array[i]=output[i]\n",
    "\n",
    "\n",
    "\n",
    "data = [4, 2, 2, 8, 3, 3, 1,10,20,300,35,34,45,300,300]\n",
    "countingSort(data,max(data))\n",
    "print(\"Sorted Array in Ascending Order: \")\n",
    "print(data)        \n"
   ]
  },
  {
   "cell_type": "markdown",
   "metadata": {},
   "source": [
    "Insertion Sort"
   ]
  },
  {
   "cell_type": "code",
   "execution_count": 1,
   "metadata": {},
   "outputs": [
    {
     "name": "stdout",
     "output_type": "stream",
     "text": [
      "[5, 5, 12, 34, 56, 67]\n"
     ]
    }
   ],
   "source": [
    "def insertionSort(array):\n",
    "    for index in range(1,len(array)):\n",
    "        current_value=array[index]\n",
    "        pos=index\n",
    "        while current_value<array[pos-1] and pos>0:\n",
    "            array[pos]=array[pos-1]\n",
    "            pos=pos-1\n",
    "        array[pos]=current_value\n",
    "data=[12,34,5,56,67,5]\n",
    "insertionSort(data)\n",
    "print(data)"
   ]
  },
  {
   "cell_type": "markdown",
   "metadata": {},
   "source": [
    "Quick Sort"
   ]
  },
  {
   "cell_type": "code",
   "execution_count": 1,
   "metadata": {},
   "outputs": [
    {
     "name": "stdout",
     "output_type": "stream",
     "text": [
      "[8, 12, 56, 67, 334]\n"
     ]
    }
   ],
   "source": [
    "def quickSort(array,left,right):\n",
    "    if left<right:\n",
    "        partition_pos=partition(array,left,right)\n",
    "        quickSort(array,left,partition_pos-1)\n",
    "        quickSort(array,partition_pos+1,right)\n",
    "def partition(array,left,right):\n",
    "    i=left\n",
    "    j=right-1\n",
    "    pivot=array[right]\n",
    "    while i<j:\n",
    "        while i<right and array[i]<pivot:\n",
    "            i+=1\n",
    "        while j>left and array[i]>=pivot:\n",
    "            j-=1\n",
    "        if i<j:\n",
    "            array[i],array[j]=array[j],array[i]\n",
    "    if array[i]>pivot:\n",
    "        array[i],array[right]=array[right],array[i]\n",
    "    return i\n",
    "data=[12,334,56,67,8]\n",
    "quickSort(data,0,len(data)-1)\n",
    "print(data)"
   ]
  },
  {
   "cell_type": "code",
   "execution_count": null,
   "metadata": {},
   "outputs": [],
   "source": [
    "def countingSort(array,k):\n",
    "    size=len(array)\n",
    "    output=[0]*size\n",
    "    count=[0]*(k+1)\n",
    "    for i in range(0,size):\n",
    "        count[array[i]]+=1\n",
    "    for i in range(1,k+1):\n",
    "        count[i]+=count[i-1]\n",
    "    i=size-1\n",
    "    while i>=0:\n",
    "        output[count[array[i]]-1]=array[i]\n",
    "        count[array[i]]-=1\n",
    "        i-=1\n",
    "    for i in range(0,size):\n",
    "        array[i]=output[i]\n",
    "\n",
    "def radix_Sort(data):\n",
    "    max_elements=max(data)\n",
    "    place=1\n",
    "    while max_elements//place>0:\n",
    "\n",
    "data = [4, 2, 2, 8, 3, 3, 1,10,20,300,35,34,45,300,300]\n",
    "countingSort(data,max(data))\n",
    "print(\"Sorted Array in Ascending Order: \")\n",
    "print(data)        \n"
   ]
  }
 ],
 "metadata": {
  "kernelspec": {
   "display_name": "Python 3",
   "language": "python",
   "name": "python3"
  },
  "language_info": {
   "codemirror_mode": {
    "name": "ipython",
    "version": 3
   },
   "file_extension": ".py",
   "mimetype": "text/x-python",
   "name": "python",
   "nbconvert_exporter": "python",
   "pygments_lexer": "ipython3",
   "version": "3.12.3"
  }
 },
 "nbformat": 4,
 "nbformat_minor": 2
}
